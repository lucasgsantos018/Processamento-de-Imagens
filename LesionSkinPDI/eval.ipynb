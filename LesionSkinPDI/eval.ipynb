{
  "cells": [
    {
      "cell_type": "code",
      "execution_count": null,
      "metadata": {
        "id": "pEfuWjHvHIwv"
      },
      "outputs": [],
      "source": [
        "import os"
      ]
    },
    {
      "cell_type": "code",
      "execution_count": null,
      "metadata": {
        "id": "vnfn-kgdHIww"
      },
      "outputs": [],
      "source": [
        "os.environ[\"TF_CPP_MIN_LOG_LEVEL\"] = \"2\"\n",
        "import numpy as np\n",
        "import cv2\n",
        "import pandas as pd\n",
        "from glob import glob\n",
        "from tqdm import tqdm\n",
        "import tensorflow as tf\n",
        "from keras.utils import CustomObjectScope\n",
        "from sklearn.metrics import accuracy_score, f1_score, jaccard_score, precision_score, recall_score\n",
        "from metrics import dice_loss, dice_coef, iou\n",
        "from train import load_data, create_dir"
      ]
    },
    {
      "cell_type": "code",
      "execution_count": null,
      "metadata": {
        "id": "t68qVZb6HIwx"
      },
      "outputs": [],
      "source": [
        "H = 256\n",
        "W = 256"
      ]
    },
    {
      "cell_type": "code",
      "execution_count": null,
      "metadata": {
        "id": "wsRkPeeVHIwx"
      },
      "outputs": [],
      "source": [
        "def read_image(path):\n",
        "    img = cv2.imread(path, cv2.IMREAD_COLOR)  # (H, W, 3)\n",
        "    img = cv2.resize(img, (W, H))\n",
        "    ori_img = img\n",
        "    img = img / 255.0\n",
        "    img = img.astype(np.float32)\n",
        "    img = np.expand_dims(img, axis=0)\n",
        "    return ori_img, img  # (1, 256, 256, 3)"
      ]
    },
    {
      "cell_type": "code",
      "execution_count": null,
      "metadata": {
        "id": "qNiE1oRtHIwy"
      },
      "outputs": [],
      "source": [
        "def read_mask(path):\n",
        "    mask = cv2.imread(path, cv2.IMREAD_GRAYSCALE)  # (H, W)\n",
        "    mask = cv2.resize(mask, (W, H))\n",
        "    ori_mask = mask\n",
        "    mask = mask / 255.0\n",
        "    mask = mask.astype(np.int32)  # (256, 256)\n",
        "    return ori_mask, mask"
      ]
    },
    {
      "cell_type": "code",
      "execution_count": null,
      "metadata": {
        "id": "RzBqeB4GHIwz"
      },
      "outputs": [],
      "source": [
        "def save_results(ori_img, ori_mask, mask_pred, save_image_path):\n",
        "    line = np.ones((H, 10, 3)) * 255\n",
        "\n",
        "    ori_mask = np.expand_dims(ori_mask, axis=-1)  # (256, 256, 1)\n",
        "    ori_mask = np.concatenate([ori_mask, ori_mask, ori_mask], axis=-1)  # (256, 256, 3)\n",
        "\n",
        "    mask_pred = np.expand_dims(mask_pred, axis=-1)  # (256, 256, 1)\n",
        "    mask_pred = np.concatenate([mask_pred, mask_pred, mask_pred], axis=-1)  # (256, 256, 3)\n",
        "\n",
        "    cat_images = np.concatenate([ori_img, line, ori_mask, line, mask_pred * 255], axis=1)\n",
        "    cv2.imwrite(save_image_path, cat_images)"
      ]
    },
    {
      "cell_type": "code",
      "execution_count": null,
      "metadata": {
        "id": "ajy3nHf-HIw0"
      },
      "outputs": [],
      "source": [
        "if __name__ == \"__main__\":\n",
        "    \"\"\" Seeding \"\"\"\n",
        "    np.random.seed(42)\n",
        "    tf.random.set_seed(42)\n",
        "\n",
        "    \"\"\" Folder for saving results \"\"\"\n",
        "    create_dir(\"results\")\n",
        "\n",
        "    \"\"\" Load the model \"\"\"\n",
        "    with CustomObjectScope({'iou': iou, 'dice_coef': dice_coef}):\n",
        "        model = tf.keras.models.load_model(\"files/split-0.4-1003-1003-imgs-masks-5-epoch/model.h5\")\n",
        "\n",
        "    \"\"\" Load the test data \"\"\"\n",
        "    dataset_path = \"ISIC2018-Challenge/\"\n",
        "    (train_x, train_y), (valid_x, valid_y), (test_x, test_y) = load_data(dataset_path)\n",
        "\n",
        "    SCORE = []\n",
        "    for img, mask in tqdm(zip(test_x, test_y), total=len(test_x)):\n",
        "        \"\"\" Exctracting the image name \"\"\"\n",
        "        name = img.split(\"\\\\\")[-1]\n",
        "\n",
        "        \"\"\" Read the image and mask \"\"\"\n",
        "        ori_img, img = read_image(img)\n",
        "        ori_mask, mask = read_mask(mask)\n",
        "\n",
        "        \"\"\" Predicting the mask \"\"\"\n",
        "        mask_pred = model.predict(img)[0] > 0.5\n",
        "        mask_pred = np.squeeze(mask_pred, axis=-1)\n",
        "        mask_pred = mask_pred.astype(np.int32)\n",
        "\n",
        "        \"\"\" Saving the predicted mask \"\"\"\n",
        "        save_image_path = f\"results/{name}\"\n",
        "\n",
        "        save_results(ori_img, ori_mask, mask_pred, save_image_path)\n",
        "\n",
        "        \"\"\" Flatten the array \"\"\"\n",
        "        mask = mask.flatten()\n",
        "        mask_pred = mask_pred.flatten()\n",
        "\n",
        "        \"\"\" Calculating metrics values \"\"\"\n",
        "        acc_value = accuracy_score(mask, mask_pred)\n",
        "        f1_value = f1_score(mask, mask_pred, labels=[0, 1], average=\"binary\") # Quanto mais próximo de 0 pior\n",
        "        jac_value = jaccard_score(mask, mask_pred, labels=[0, 1], average=\"binary\")\n",
        "        recall_value = recall_score(mask, mask_pred, labels=[0, 1], average=\"binary\")\n",
        "        precision_value = precision_score(mask, mask_pred, labels=[0, 1], average=\"binary\")\n",
        "        SCORE.append([name, acc_value, f1_value, jac_value, recall_value, precision_value])\n",
        "\n",
        "    \"\"\" mean metrics values \"\"\"\n",
        "    score = [s[1:] for s in SCORE]\n",
        "    score = np.mean(score, axis=0)\n",
        "    print(f\"Accuracy: {score[0]:0.5f}\")\n",
        "    print(f\"F1: {score[1]:0.5f}\")\n",
        "    print(f\"Jaccard: {score[2]:0.5f}\")\n",
        "    print(f\"Recall: {score[3]:0.5f}\")\n",
        "    print(f\"Precision: {score[4]:0.5f}\")\n",
        "\n",
        "    df = pd.DataFrame(SCORE, columns=[\"Image Name\", \"Acc\", \"F1\", \"Jaccard\", \"Recall\", \"Precision\"])\n",
        "    df.to_csv(\"files/split-0.4-1003-1003-imgs-masks-5-epoch/score.csv\")"
      ]
    }
  ],
  "metadata": {
    "jupytext": {
      "cell_metadata_filter": "-all",
      "main_language": "python",
      "notebook_metadata_filter": "-all"
    },
    "colab": {
      "provenance": []
    }
  },
  "nbformat": 4,
  "nbformat_minor": 0
}